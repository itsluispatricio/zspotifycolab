{
  "cells": [
    {
      "cell_type": "code",
      "execution_count": null,
      "metadata": {
        "cellView": "form",
        "id": "UBROi5qcLcpf"
      },
      "outputs": [],
      "source": [
        "#@markdown ឵឵ ឵\n",
        "#@markdown <center><img src=\"https://raw.githubusercontent.com/itsluispatricio/zspotifycolab/main/zspotify.png\" width=\"500px\"></center>"
      ]
    },
    {
      "cell_type": "code",
      "execution_count": null,
      "metadata": {
        "cellView": "form",
        "id": "345DQno2G3wR"
      },
      "outputs": [],
      "source": [
        "#@title __✦ Mount Google Drive and Install dependencies__\n",
        "#@markdown Note: Upload `credentials.json` to your Google Drive **root** folder to use these credentials instead of logging-in every single session. \n",
        "from IPython.display import clear_output\n",
        "from google.colab import drive\n",
        "from pathlib import Path\n",
        "import shutil\n",
        "drive.mount('/content/drive', force_remount=True)\n",
        "!echo \"Installing Dependencies:\"\n",
        "!add-apt-repository --yes ppa:deadsnakes/ppa\n",
        "!apt install --yes python3.9 python3.9-distutils ffmpeg rar\n",
        "!wget https://bootstrap.pypa.io/get-pip.py && python3.9 get-pip.py\n",
        "!python3.9 get-pip.py\n",
        "!git clone https://github.com/afkcodes/zspotify\n",
        "!sudo apt install python3-pip\n",
        "!python3.9 -m pip install --upgrade setuptools\n",
        "!python3.9 -m pip install --upgrade pip\n",
        "!python3.9 -m pip install --upgrade distlib\n",
        "!python3.9 -m pip install -r zspotify/requirements.txt\n",
        "!rm /content/zspotify/zs_config.json\n",
        "!rm /content/get-pip.py\n",
        "!curl -O https://raw.githubusercontent.com/itsluispatricio/zspotifycolab/main/zs_config.json\n",
        "shutil.move('/content/zs_config.json', '/content/zspotify/zs_config.json')\n",
        "credentials = Path(\"/content/drive/MyDrive/credentials.json\")\n",
        "if credentials.is_file():\n",
        "  !cp /content/drive/MyDrive/credentials.json /content/credentials.json\n",
        "else:\n",
        "  pass\n",
        "clear_output()\n",
        "!echo \"Done!\""
      ]
    },
    {
      "cell_type": "code",
      "execution_count": null,
      "metadata": {
        "cellView": "form",
        "id": "kw3BTlN3HGzj"
      },
      "outputs": [],
      "source": [
        "#@title __⬅️ Download from Spotify!__\n",
        "#@markdown Note: Use `Rar` and `RarPassword` options if you want to get a .rar file after the download ended.\n",
        "Type = \"Search\" #@param [\"Search\", \"URL\", \"Personal Playlists\", \"Liked Songs\"]\n",
        "Rar = False #@param {type:\"boolean\"}\n",
        "RarPassword = False #@param {type:\"boolean\"}\n",
        "from IPython.display import clear_output\n",
        "import json\n",
        "if Type == \"Search\":\n",
        "  !python3.9 zspotify/zspotify -s\n",
        "elif Type == \"URL\":\n",
        "  URL = input('Enter the Spotify URL: ')\n",
        "  !python3.9 zspotify/zspotify {URL}\n",
        "elif Type == \"Personal Playlists\":\n",
        "  !python3.9 zspotify/zspotify -p\n",
        "else:\n",
        "  !python3.9 zspotify/zspotify -ls\n",
        "if Rar == True:\n",
        "  with open('/content/zspotify/zs_config.json','r') as file:\n",
        "    data = json.load(file)\n",
        "    ROOT_PATH = data['ROOT_PATH']\n",
        "  Filename = input('Enter the .rar file name: ')\n",
        "  if RarPassword == True:\n",
        "    !rar a -p '{ROOT_PATH}{Filename}' '{ROOT_PATH}'\n",
        "  else:\n",
        "    !rar a '{ROOT_PATH}{Filename}' '{ROOT_PATH}'\n",
        "else:\n",
        "  pass\n",
        "clear_output()\n",
        "!echo \"Done!\""
      ]
    },
    {
      "cell_type": "code",
      "execution_count": 2,
      "metadata": {
        "cellView": "form",
        "id": "vOTTdTVBNi11"
      },
      "outputs": [],
      "source": [
        "#@title __⬅️ Custom configuration__\n",
        "#@markdown Note: Use `isSharedDrive` if you want your music to be downloaded to a Google Shared Drive.\n",
        "from IPython.display import clear_output\n",
        "Drive = \"MyDrive\" #@param {type:\"string\"}\n",
        "isSharedDrive = False #@param {type:\"boolean\"}\n",
        "ForcePremium = False #@param {type:\"boolean\"}\n",
        "DownloadFormat = \"ogg\" #@param [\"ogg\", \"mp3\"]\n",
        "ForcePremium = False #@param {type:\"boolean\"}\n",
        "DownloadRealTime = False #@param {type:\"boolean\"}\n",
        "AntiBanWaitTime = 1 #@param {type:\"slider\", min:1, max:120, step:1}\n",
        "\n",
        "fin = open(\"/content/zspotify/zs_config.json\", \"rt\")\n",
        "data = fin.read()\n",
        "if isSharedDrive == True:\n",
        "  data = data.replace('MyDrive', 'Shareddrives/{}'.format(Drive))\n",
        "else:\n",
        "  data = data.replace('MyDrive', Drive)\n",
        "data = data.replace('ogg', DownloadFormat)\n",
        "if ForcePremium == True:\n",
        "  data = data.replace('\"FORCE_PREMIUM\": \"False\"', '\"FORCE_PREMIUM\": \"True\"')\n",
        "else:\n",
        "  pass\n",
        "if DownloadRealTime == True:\n",
        "  data = data.replace('\"DOWNLOAD_REAL_TIME\": \"False\"', '\"DOWNLOAD_REAL_TIME\": \"True\"')\n",
        "else:\n",
        "  pass\n",
        "data = data.replace('\"ANTI_BAN_WAIT_TIME\": \"1\"', '\"ANTI_BAN_WAIT_TIME\": \"{}\"'.format(AntiBanWaitTime))\n",
        "fin.close()\n",
        "fin = open(\"/content/zspotify/zs_config.json\", \"wt\")\n",
        "fin.write(data)\n",
        "fin.close()\n",
        "clear_output()\n",
        "!echo \"Done!\""
      ]
    },
    {
      "cell_type": "code",
      "execution_count": null,
      "metadata": {
        "cellView": "form",
        "id": "2LdXX9vMtiB7"
      },
      "outputs": [],
      "source": [
        "#@title __⬅️ Reset custom configuration__\n",
        "from IPython.display import clear_output\n",
        "import shutil\n",
        "!rm /content/zspotify/zs_config.json\n",
        "!curl -O https://raw.githubusercontent.com/itsluispatricio/zspotifycolab/main/zs_config.json\n",
        "shutil.move('/content/zs_config.json', '/content/zspotify/zs_config.json')\n",
        "clear_output()\n",
        "!echo \"Done!\""
      ]
    }
  ],
  "metadata": {
    "colab": {
      "name": "ZSpotifyColab.ipynb",
      "provenance": []
    },
    "kernelspec": {
      "display_name": "Python 3",
      "name": "python3"
    },
    "language_info": {
      "name": "python"
    }
  },
  "nbformat": 4,
  "nbformat_minor": 0
}
